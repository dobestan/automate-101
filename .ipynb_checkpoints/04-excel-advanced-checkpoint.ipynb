{
 "cells": [
  {
   "cell_type": "markdown",
   "metadata": {},
   "source": [
    "# 업무자동화를 위한 파이썬 입문 CAMP #10-04\n",
    "\n",
    "\n",
    "> 주제 : 엑셀에 입력되어 있는 크롤링된 휴대폰 번호를 가져와서, 제대로 된 휴대폰 번호로 변경한다. ( 예, \"010-2220-오칠삼육\" => \"010-2220-5736 \")"
   ]
  },
  {
   "cell_type": "markdown",
   "metadata": {},
   "source": [
    "## Prerequisite\n",
    "\n",
    "#### Python Packages\n",
    "\n",
    "```\n",
    "$ pip install pandas\n",
    "\n",
    "$ pip install xlrd\n",
    "$ pip install openpyxl\n",
    "```"
   ]
  },
  {
   "cell_type": "code",
   "execution_count": 1,
   "metadata": {
    "collapsed": true
   },
   "outputs": [],
   "source": [
    "import pandas as pd"
   ]
  },
  {
   "cell_type": "code",
   "execution_count": 2,
   "metadata": {
    "collapsed": false
   },
   "outputs": [
    {
     "data": {
      "text/html": [
       "<div>\n",
       "<table border=\"1\" class=\"dataframe\">\n",
       "  <thead>\n",
       "    <tr style=\"text-align: right;\">\n",
       "      <th></th>\n",
       "      <th>phonenumber</th>\n",
       "      <th>중고나라 URL</th>\n",
       "    </tr>\n",
       "  </thead>\n",
       "  <tbody>\n",
       "    <tr>\n",
       "      <th>0</th>\n",
       "      <td>010-22205736</td>\n",
       "      <td>http://cafe.naver.com/joonggonara/1</td>\n",
       "    </tr>\n",
       "    <tr>\n",
       "      <th>1</th>\n",
       "      <td>0102220-5736</td>\n",
       "      <td>http://cafe.naver.com/joonggonara/2</td>\n",
       "    </tr>\n",
       "    <tr>\n",
       "      <th>2</th>\n",
       "      <td>010-2220-오칠삼육</td>\n",
       "      <td>http://cafe.naver.com/joonggonara/3</td>\n",
       "    </tr>\n",
       "    <tr>\n",
       "      <th>3</th>\n",
       "      <td>010 2220 5736</td>\n",
       "      <td>http://cafe.naver.com/joonggonara/4</td>\n",
       "    </tr>\n",
       "    <tr>\n",
       "      <th>4</th>\n",
       "      <td>010.2220.5736</td>\n",
       "      <td>http://cafe.naver.com/joonggonara/5</td>\n",
       "    </tr>\n",
       "    <tr>\n",
       "      <th>5</th>\n",
       "      <td>공일공-2220-오칠삼육</td>\n",
       "      <td>http://cafe.naver.com/joonggonara/6</td>\n",
       "    </tr>\n",
       "    <tr>\n",
       "      <th>6</th>\n",
       "      <td>공일공22205736</td>\n",
       "      <td>http://cafe.naver.com/joonggonara/7</td>\n",
       "    </tr>\n",
       "  </tbody>\n",
       "</table>\n",
       "</div>"
      ],
      "text/plain": [
       "     phonenumber                             중고나라 URL\n",
       "0   010-22205736  http://cafe.naver.com/joonggonara/1\n",
       "1   0102220-5736  http://cafe.naver.com/joonggonara/2\n",
       "2  010-2220-오칠삼육  http://cafe.naver.com/joonggonara/3\n",
       "3  010 2220 5736  http://cafe.naver.com/joonggonara/4\n",
       "4  010.2220.5736  http://cafe.naver.com/joonggonara/5\n",
       "5  공일공-2220-오칠삼육  http://cafe.naver.com/joonggonara/6\n",
       "6    공일공22205736  http://cafe.naver.com/joonggonara/7"
      ]
     },
     "execution_count": 2,
     "metadata": {},
     "output_type": "execute_result"
    }
   ],
   "source": [
    "df = pd.read_excel(\"joonggonara.xlsx\")\n",
    "\n",
    "# df 는 DataFrame 의 약어 입니다.\n",
    "# DataFrame 은 여러분이 흔히 생각하시는 엑셀 데이터 ( 2차원의 row, column 이 있는 데이터 )\n",
    "# 라고 생각하시면 됩니다.\n",
    "\n",
    "df"
   ]
  },
  {
   "cell_type": "code",
   "execution_count": 3,
   "metadata": {
    "collapsed": false
   },
   "outputs": [
    {
     "data": {
      "text/plain": [
       "'01022205736'"
      ]
     },
     "execution_count": 3,
     "metadata": {},
     "output_type": "execute_result"
    }
   ],
   "source": [
    "def get_preprocessed_phonenumber(phonenumber):\n",
    "    korean_to_number_dict = {\n",
    "        '영': '0',\n",
    "        '일': '1',\n",
    "        '이': '2',\n",
    "        '삼': '3',\n",
    "        '사': '4',\n",
    "        '오': '5',\n",
    "        '육': '6',\n",
    "        '칠': '7',\n",
    "        '팔': '8',\n",
    "        '구': '9',\n",
    "        \n",
    "        '공': '0',\n",
    "        # ...\n",
    "    }\n",
    "    \n",
    "    # \"-\", \".\", \"\" 없애서 SMS 보내기 편한 형태로 만들기\n",
    "    preprocessed_phonenumber = phonenumber.replace('-', '').replace(' ', '').replace('.', '')\n",
    "    \n",
    "    # 한글로 입력된 휴대폰 번호 숫자로 변경하기\n",
    "    for key, value in korean_to_number_dict.items():\n",
    "        preprocessed_phonenumber = preprocessed_phonenumber.replace(key, value)\n",
    "    \n",
    "    return preprocessed_phonenumber\n",
    "\n",
    "\n",
    "get_preprocessed_phonenumber(\"010.2220-573육\")"
   ]
  },
  {
   "cell_type": "code",
   "execution_count": 4,
   "metadata": {
    "collapsed": true
   },
   "outputs": [],
   "source": [
    "df['phonenumber_preprocessed'] = df.phonenumber.apply(get_preprocessed_phonenumber)"
   ]
  },
  {
   "cell_type": "code",
   "execution_count": 5,
   "metadata": {
    "collapsed": false
   },
   "outputs": [
    {
     "data": {
      "text/html": [
       "<div>\n",
       "<table border=\"1\" class=\"dataframe\">\n",
       "  <thead>\n",
       "    <tr style=\"text-align: right;\">\n",
       "      <th></th>\n",
       "      <th>phonenumber</th>\n",
       "      <th>중고나라 URL</th>\n",
       "      <th>phonenumber_preprocessed</th>\n",
       "    </tr>\n",
       "  </thead>\n",
       "  <tbody>\n",
       "    <tr>\n",
       "      <th>0</th>\n",
       "      <td>010-22205736</td>\n",
       "      <td>http://cafe.naver.com/joonggonara/1</td>\n",
       "      <td>01022205736</td>\n",
       "    </tr>\n",
       "    <tr>\n",
       "      <th>1</th>\n",
       "      <td>0102220-5736</td>\n",
       "      <td>http://cafe.naver.com/joonggonara/2</td>\n",
       "      <td>01022205736</td>\n",
       "    </tr>\n",
       "    <tr>\n",
       "      <th>2</th>\n",
       "      <td>010-2220-오칠삼육</td>\n",
       "      <td>http://cafe.naver.com/joonggonara/3</td>\n",
       "      <td>01022205736</td>\n",
       "    </tr>\n",
       "    <tr>\n",
       "      <th>3</th>\n",
       "      <td>010 2220 5736</td>\n",
       "      <td>http://cafe.naver.com/joonggonara/4</td>\n",
       "      <td>01022205736</td>\n",
       "    </tr>\n",
       "    <tr>\n",
       "      <th>4</th>\n",
       "      <td>010.2220.5736</td>\n",
       "      <td>http://cafe.naver.com/joonggonara/5</td>\n",
       "      <td>01022205736</td>\n",
       "    </tr>\n",
       "    <tr>\n",
       "      <th>5</th>\n",
       "      <td>공일공-2220-오칠삼육</td>\n",
       "      <td>http://cafe.naver.com/joonggonara/6</td>\n",
       "      <td>01022205736</td>\n",
       "    </tr>\n",
       "    <tr>\n",
       "      <th>6</th>\n",
       "      <td>공일공22205736</td>\n",
       "      <td>http://cafe.naver.com/joonggonara/7</td>\n",
       "      <td>01022205736</td>\n",
       "    </tr>\n",
       "  </tbody>\n",
       "</table>\n",
       "</div>"
      ],
      "text/plain": [
       "     phonenumber                             중고나라 URL phonenumber_preprocessed\n",
       "0   010-22205736  http://cafe.naver.com/joonggonara/1              01022205736\n",
       "1   0102220-5736  http://cafe.naver.com/joonggonara/2              01022205736\n",
       "2  010-2220-오칠삼육  http://cafe.naver.com/joonggonara/3              01022205736\n",
       "3  010 2220 5736  http://cafe.naver.com/joonggonara/4              01022205736\n",
       "4  010.2220.5736  http://cafe.naver.com/joonggonara/5              01022205736\n",
       "5  공일공-2220-오칠삼육  http://cafe.naver.com/joonggonara/6              01022205736\n",
       "6    공일공22205736  http://cafe.naver.com/joonggonara/7              01022205736"
      ]
     },
     "execution_count": 5,
     "metadata": {},
     "output_type": "execute_result"
    }
   ],
   "source": [
    "df"
   ]
  },
  {
   "cell_type": "code",
   "execution_count": 6,
   "metadata": {
    "collapsed": true
   },
   "outputs": [],
   "source": [
    "df.to_excel('joonggonara_preprocessed.xlsx', index=False)"
   ]
  }
 ],
 "metadata": {
  "kernelspec": {
   "display_name": "Python 3",
   "language": "python",
   "name": "python3"
  },
  "language_info": {
   "codemirror_mode": {
    "name": "ipython",
    "version": 3
   },
   "file_extension": ".py",
   "mimetype": "text/x-python",
   "name": "python",
   "nbconvert_exporter": "python",
   "pygments_lexer": "ipython3",
   "version": "3.5.1"
  }
 },
 "nbformat": 4,
 "nbformat_minor": 0
}
